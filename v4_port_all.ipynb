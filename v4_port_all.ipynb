{
  "nbformat": 4,
  "nbformat_minor": 0,
  "metadata": {
    "_change_revision": 206,
    "_is_fork": false,
    "kernelspec": {
      "display_name": "Python 3",
      "language": "python",
      "name": "python3"
    },
    "language_info": {
      "codemirror_mode": {
        "name": "ipython",
        "version": 3
      },
      "file_extension": ".py",
      "mimetype": "text/x-python",
      "name": "python",
      "nbconvert_exporter": "python",
      "pygments_lexer": "ipython3",
      "version": "3.9.0"
    },
    "colab": {
      "name": "v4_port-all.ipynb",
      "provenance": [],
      "collapsed_sections": []
    }
  },
  "cells": [
    {
      "cell_type": "markdown",
      "metadata": {
        "_cell_guid": "83708667-4fdc-1563-7b3a-06b6575d2865",
        "id": "c0HEg72LFSre"
      },
      "source": [
        "# Reinforcement Learning for Portfolio Allocation\n",
        "\n"
      ]
    },
    {
      "cell_type": "markdown",
      "metadata": {
        "id": "ckw6E3tlFSrv"
      },
      "source": [
        "<a id='0'></a>\n",
        "# 1. Problem Definition"
      ]
    },
    {
      "cell_type": "markdown",
      "metadata": {
        "id": "smNvDmxLFSrw"
      },
      "source": [
        "We train an algorithm to re-allocate a portfolio of assets once that the market values of the same assets are known for some period in the past. In particular, we implement a deep-Q-learning framework in which:\n",
        "\n",
        "* the environment is composed by asset market values and portfolio weights, i.e. every state is determined by two components, the correlation matrix of the assets based on a specific time window and the current percentage composition of the portfolio in terms of the assets considered\n",
        "* the agent is a portfolio manager, i.e. an action is determined by all the instructions for rebalancing the portfolio weights (hold, buy or sell for each of the assets considered) \n",
        "\n",
        "As reward function, we set a variation of the sharpe ratio which is made to be asset-specific (instead of a single scalar, we take a vector of average returns, each divided by the overall portfolio volatility). "
      ]
    },
    {
      "cell_type": "markdown",
      "metadata": {
        "id": "gkAIqGP7FSry"
      },
      "source": [
        "<a id='1'></a>\n",
        "# 2. Loading the data and python packages"
      ]
    },
    {
      "cell_type": "markdown",
      "metadata": {
        "id": "J2AM43Z_jhud"
      },
      "source": [
        "Market values of assets is obtained from yahoo-finance (aside: to understand why I chose the adjusted-close as equivalent to crypto prices, see https://help.yahoo.com/kb/SLN28256.html for reference)"
      ]
    },
    {
      "cell_type": "markdown",
      "metadata": {
        "id": "2qfhrujgFSr2"
      },
      "source": [
        "<a id='1.1'></a>\n",
        "## 2.1. Loading the python packages"
      ]
    },
    {
      "cell_type": "code",
      "metadata": {
        "id": "ABxT6lAvXjBV",
        "colab": {
          "base_uri": "https://localhost:8080/"
        },
        "outputId": "6ba6985d-60a3-452a-bd5a-4405e8bfafd6"
      },
      "source": [
        "# run these lines to get access to your storage space\n",
        "from google.colab import drive\n",
        "\n",
        "drive.mount('/content/drive')"
      ],
      "execution_count": null,
      "outputs": [
        {
          "output_type": "stream",
          "name": "stdout",
          "text": [
            "Mounted at /content/drive\n"
          ]
        }
      ]
    },
    {
      "cell_type": "code",
      "metadata": {
        "id": "EVMvp95PkY9d",
        "colab": {
          "base_uri": "https://localhost:8080/"
        },
        "outputId": "05b62cb0-7505-4b37-b9dd-b1b1f9c0f07e"
      },
      "source": [
        "# if we have not done it already, let's download yahoo-finance\n",
        "!pip install yfinance"
      ],
      "execution_count": null,
      "outputs": [
        {
          "output_type": "stream",
          "name": "stdout",
          "text": [
            "Collecting yfinance\n",
            "  Using cached yfinance-0.1.64.tar.gz (26 kB)\n",
            "Requirement already satisfied: pandas>=0.24 in /usr/local/lib/python3.7/dist-packages (from yfinance) (1.1.5)\n",
            "Requirement already satisfied: numpy>=1.15 in /usr/local/lib/python3.7/dist-packages (from yfinance) (1.19.5)\n",
            "Requirement already satisfied: requests>=2.20 in /usr/local/lib/python3.7/dist-packages (from yfinance) (2.23.0)\n",
            "Requirement already satisfied: multitasking>=0.0.7 in /usr/local/lib/python3.7/dist-packages (from yfinance) (0.0.9)\n",
            "Collecting lxml>=4.5.1\n",
            "  Downloading lxml-4.6.3-cp37-cp37m-manylinux2014_x86_64.whl (6.3 MB)\n",
            "\u001b[K     |████████████████████████████████| 6.3 MB 33.0 MB/s \n",
            "\u001b[?25hRequirement already satisfied: pytz>=2017.2 in /usr/local/lib/python3.7/dist-packages (from pandas>=0.24->yfinance) (2018.9)\n",
            "Requirement already satisfied: python-dateutil>=2.7.3 in /usr/local/lib/python3.7/dist-packages (from pandas>=0.24->yfinance) (2.8.2)\n",
            "Requirement already satisfied: six>=1.5 in /usr/local/lib/python3.7/dist-packages (from python-dateutil>=2.7.3->pandas>=0.24->yfinance) (1.15.0)\n",
            "Requirement already satisfied: certifi>=2017.4.17 in /usr/local/lib/python3.7/dist-packages (from requests>=2.20->yfinance) (2021.5.30)\n",
            "Requirement already satisfied: idna<3,>=2.5 in /usr/local/lib/python3.7/dist-packages (from requests>=2.20->yfinance) (2.10)\n",
            "Requirement already satisfied: chardet<4,>=3.0.2 in /usr/local/lib/python3.7/dist-packages (from requests>=2.20->yfinance) (3.0.4)\n",
            "Requirement already satisfied: urllib3!=1.25.0,!=1.25.1,<1.26,>=1.21.1 in /usr/local/lib/python3.7/dist-packages (from requests>=2.20->yfinance) (1.24.3)\n",
            "Building wheels for collected packages: yfinance\n",
            "  Building wheel for yfinance (setup.py) ... \u001b[?25l\u001b[?25hdone\n",
            "  Created wheel for yfinance: filename=yfinance-0.1.64-py2.py3-none-any.whl size=24109 sha256=6316a7c5c15a61cca8b0283c31ccfd6f4376a89e945d45b070327974116c60a2\n",
            "  Stored in directory: /root/.cache/pip/wheels/86/fe/9b/a4d3d78796b699e37065e5b6c27b75cff448ddb8b24943c288\n",
            "Successfully built yfinance\n",
            "Installing collected packages: lxml, yfinance\n",
            "  Attempting uninstall: lxml\n",
            "    Found existing installation: lxml 4.2.6\n",
            "    Uninstalling lxml-4.2.6:\n",
            "      Successfully uninstalled lxml-4.2.6\n",
            "Successfully installed lxml-4.6.3 yfinance-0.1.64\n"
          ]
        }
      ]
    },
    {
      "cell_type": "code",
      "metadata": {
        "_cell_guid": "5d8fee34-f454-2642-8b06-ed719f0317e1",
        "id": "Bg737BAyFSr3"
      },
      "source": [
        "# load libraries\n",
        "import numpy as np\n",
        "import pandas as pd\n",
        "import yfinance as yf\n",
        "import datetime\n",
        "import math\n",
        "import random\n",
        "\n",
        "# for plotting\n",
        "import matplotlib.pyplot as plt\n",
        "#import matplotlib.pylab as plt\n",
        "\n",
        "%matplotlib inline\n",
        "\n",
        "# for the neural network\n",
        "from keras import layers as ker_lay\n",
        "from keras import models as ker_mod"
      ],
      "execution_count": null,
      "outputs": []
    },
    {
      "cell_type": "code",
      "metadata": {
        "id": "3HybTnyyFSr7"
      },
      "source": [
        "# disable the warnings\n",
        "import warnings\n",
        "warnings.filterwarnings('ignore')"
      ],
      "execution_count": null,
      "outputs": []
    },
    {
      "cell_type": "markdown",
      "metadata": {
        "id": "iW2OzDzOFSr8"
      },
      "source": [
        "<a id='1.2'></a>\n",
        "## 2.2. Loading the Data"
      ]
    },
    {
      "cell_type": "code",
      "metadata": {
        "id": "YKIgpDN4iSm9"
      },
      "source": [
        "# set some list of stocks to consider, the time interval and frequency of sampling\n",
        "# let's go with a random list of stocks, during all 2010 and one-day spaced data points \n",
        "set_list_00 = ['MMM','GOOGL','AMZN','AXP','AAPL','BAC','KO','COST','DIS','GS','HD','IBM','JNJ','MCD','MSFT','NKE','SBUX','VZ','V','WMT']\n",
        "set_list_01 = ['GOOGL','AMZN','AAPL','2354.TW','IBM','MSFT','SBUX','V','WMT']\n",
        "set_list_02 = ['ISP.MI','ENI.MI','UNI.MI','SRS.MI','STM.MI']\n",
        "set_time = {'start':'2015-01-01','end':'2018-01-01','interval':'1d'}\n",
        "set_time = {'start':'2018-01-01','end':'2021-10-15','interval':'1d'}"
      ],
      "execution_count": null,
      "outputs": []
    },
    {
      "cell_type": "code",
      "metadata": {
        "id": "yyCzXGGOi8MY",
        "colab": {
          "base_uri": "https://localhost:8080/"
        },
        "outputId": "831a1739-187c-4622-95b5-5e4ae4fb0e97"
      },
      "source": [
        "# first let me download a lot of useless data (it is not the efficient way of doing it - to improve ...)\n",
        "# then I will drop all unnecessary information - retain only the adjusted close price\n",
        "# last, I am to reframe the data so that you can use in the following \n",
        "dataset = yf.download(' '.join(set_list_00 + set_list_02), group_by='column', **set_time)\n",
        "dataset = dataset.drop(columns=['Close','Open','High','Low','Volume'])\n",
        "dataset = dataset.droplevel(0,axis=1)"
      ],
      "execution_count": null,
      "outputs": [
        {
          "output_type": "stream",
          "name": "stdout",
          "text": [
            "[*********************100%***********************]  25 of 25 completed\n"
          ]
        }
      ]
    },
    {
      "cell_type": "code",
      "metadata": {
        "id": "vTXLVi0eFSsB",
        "colab": {
          "base_uri": "https://localhost:8080/"
        },
        "outputId": "50b08dea-30ec-43ec-8b84-b856dc30ee2e"
      },
      "source": [
        "# shape \n",
        "print(dataset.shape)"
      ],
      "execution_count": null,
      "outputs": [
        {
          "output_type": "stream",
          "name": "stdout",
          "text": [
            "(978, 25)\n"
          ]
        }
      ]
    },
    {
      "cell_type": "code",
      "metadata": {
        "id": "lJ_fkJQDFSsC",
        "colab": {
          "base_uri": "https://localhost:8080/",
          "height": 246
        },
        "outputId": "3d0f98cb-a43f-495c-94b6-af5a131f1326"
      },
      "source": [
        "# peek at data\n",
        "# if you see nans it is because in one same day some stock exchanges \n",
        "# might be closed while others are open instead \n",
        "pd.set_option('display.width', 100)\n",
        "dataset.head(3)"
      ],
      "execution_count": null,
      "outputs": [
        {
          "output_type": "execute_result",
          "data": {
            "text/html": [
              "<div>\n",
              "<style scoped>\n",
              "    .dataframe tbody tr th:only-of-type {\n",
              "        vertical-align: middle;\n",
              "    }\n",
              "\n",
              "    .dataframe tbody tr th {\n",
              "        vertical-align: top;\n",
              "    }\n",
              "\n",
              "    .dataframe thead th {\n",
              "        text-align: right;\n",
              "    }\n",
              "</style>\n",
              "<table border=\"1\" class=\"dataframe\">\n",
              "  <thead>\n",
              "    <tr style=\"text-align: right;\">\n",
              "      <th></th>\n",
              "      <th>AAPL</th>\n",
              "      <th>AMZN</th>\n",
              "      <th>AXP</th>\n",
              "      <th>BAC</th>\n",
              "      <th>COST</th>\n",
              "      <th>DIS</th>\n",
              "      <th>ENI.MI</th>\n",
              "      <th>GOOGL</th>\n",
              "      <th>GS</th>\n",
              "      <th>HD</th>\n",
              "      <th>IBM</th>\n",
              "      <th>ISP.MI</th>\n",
              "      <th>JNJ</th>\n",
              "      <th>KO</th>\n",
              "      <th>MCD</th>\n",
              "      <th>MMM</th>\n",
              "      <th>MSFT</th>\n",
              "      <th>NKE</th>\n",
              "      <th>SBUX</th>\n",
              "      <th>SRS.MI</th>\n",
              "      <th>STM.MI</th>\n",
              "      <th>UNI.MI</th>\n",
              "      <th>V</th>\n",
              "      <th>VZ</th>\n",
              "      <th>WMT</th>\n",
              "    </tr>\n",
              "    <tr>\n",
              "      <th>Date</th>\n",
              "      <th></th>\n",
              "      <th></th>\n",
              "      <th></th>\n",
              "      <th></th>\n",
              "      <th></th>\n",
              "      <th></th>\n",
              "      <th></th>\n",
              "      <th></th>\n",
              "      <th></th>\n",
              "      <th></th>\n",
              "      <th></th>\n",
              "      <th></th>\n",
              "      <th></th>\n",
              "      <th></th>\n",
              "      <th></th>\n",
              "      <th></th>\n",
              "      <th></th>\n",
              "      <th></th>\n",
              "      <th></th>\n",
              "      <th></th>\n",
              "      <th></th>\n",
              "      <th></th>\n",
              "      <th></th>\n",
              "      <th></th>\n",
              "      <th></th>\n",
              "    </tr>\n",
              "  </thead>\n",
              "  <tbody>\n",
              "    <tr>\n",
              "      <th>2018-01-02</th>\n",
              "      <td>41.248280</td>\n",
              "      <td>1189.010010</td>\n",
              "      <td>93.336876</td>\n",
              "      <td>27.561302</td>\n",
              "      <td>177.262650</td>\n",
              "      <td>108.726059</td>\n",
              "      <td>10.874371</td>\n",
              "      <td>1073.209961</td>\n",
              "      <td>238.379105</td>\n",
              "      <td>172.003632</td>\n",
              "      <td>129.093903</td>\n",
              "      <td>1.903839</td>\n",
              "      <td>126.012619</td>\n",
              "      <td>40.303242</td>\n",
              "      <td>158.214706</td>\n",
              "      <td>209.198395</td>\n",
              "      <td>81.848282</td>\n",
              "      <td>61.186920</td>\n",
              "      <td>53.517845</td>\n",
              "      <td>1.652354</td>\n",
              "      <td>17.681042</td>\n",
              "      <td>3.312117</td>\n",
              "      <td>111.846077</td>\n",
              "      <td>44.937580</td>\n",
              "      <td>91.757294</td>\n",
              "    </tr>\n",
              "    <tr>\n",
              "      <th>2018-01-03</th>\n",
              "      <td>41.241093</td>\n",
              "      <td>1204.199951</td>\n",
              "      <td>93.912354</td>\n",
              "      <td>27.469124</td>\n",
              "      <td>179.389954</td>\n",
              "      <td>109.192848</td>\n",
              "      <td>10.945136</td>\n",
              "      <td>1091.520020</td>\n",
              "      <td>236.160080</td>\n",
              "      <td>172.900085</td>\n",
              "      <td>132.642426</td>\n",
              "      <td>1.901074</td>\n",
              "      <td>127.216362</td>\n",
              "      <td>40.214737</td>\n",
              "      <td>157.547989</td>\n",
              "      <td>209.189468</td>\n",
              "      <td>82.229195</td>\n",
              "      <td>61.177292</td>\n",
              "      <td>54.520771</td>\n",
              "      <td>1.694335</td>\n",
              "      <td>18.237473</td>\n",
              "      <td>3.282589</td>\n",
              "      <td>112.959534</td>\n",
              "      <td>44.014153</td>\n",
              "      <td>92.557693</td>\n",
              "    </tr>\n",
              "    <tr>\n",
              "      <th>2018-01-04</th>\n",
              "      <td>41.432655</td>\n",
              "      <td>1209.589966</td>\n",
              "      <td>95.474388</td>\n",
              "      <td>27.828621</td>\n",
              "      <td>177.996811</td>\n",
              "      <td>109.144241</td>\n",
              "      <td>11.204613</td>\n",
              "      <td>1095.760010</td>\n",
              "      <td>239.460678</td>\n",
              "      <td>174.272263</td>\n",
              "      <td>135.328934</td>\n",
              "      <td>1.950848</td>\n",
              "      <td>127.207306</td>\n",
              "      <td>40.781136</td>\n",
              "      <td>158.653122</td>\n",
              "      <td>211.923843</td>\n",
              "      <td>82.952927</td>\n",
              "      <td>61.138737</td>\n",
              "      <td>54.725071</td>\n",
              "      <td>1.663269</td>\n",
              "      <td>18.496502</td>\n",
              "      <td>3.346567</td>\n",
              "      <td>113.379539</td>\n",
              "      <td>44.156868</td>\n",
              "      <td>92.641472</td>\n",
              "    </tr>\n",
              "  </tbody>\n",
              "</table>\n",
              "</div>"
            ],
            "text/plain": [
              "                 AAPL         AMZN        AXP  ...           V         VZ        WMT\n",
              "Date                                           ...                                  \n",
              "2018-01-02  41.248280  1189.010010  93.336876  ...  111.846077  44.937580  91.757294\n",
              "2018-01-03  41.241093  1204.199951  93.912354  ...  112.959534  44.014153  92.557693\n",
              "2018-01-04  41.432655  1209.589966  95.474388  ...  113.379539  44.156868  92.641472\n",
              "\n",
              "[3 rows x 25 columns]"
            ]
          },
          "metadata": {},
          "execution_count": 9
        }
      ]
    },
    {
      "cell_type": "markdown",
      "metadata": {
        "id": "wezdCx6kFSsE"
      },
      "source": [
        "<a id='3'></a>\n",
        "# 3. Environment and Agent classes"
      ]
    },
    {
      "cell_type": "markdown",
      "metadata": {
        "id": "r2zBDLrfFSsE"
      },
      "source": [
        "<a id='3.1'></a>\n",
        "## 3.1. Market environment\n"
      ]
    },
    {
      "cell_type": "code",
      "metadata": {
        "id": "BHINCH-cFSsF"
      },
      "source": [
        "class myenvir:\n",
        "  \n",
        "  def __init__(self, data, portfolio_choice, reward_def='sharpe'):    \n",
        "    self.data = data\n",
        "    self.reward_def = reward_def\n",
        "    \n",
        "    # here you choose on which assets to play\n",
        "    # it is a boolean array\n",
        "    self.portfolio_choice = portfolio_choice\n",
        "\n",
        "    # kinda dumb initialization of weights vector\n",
        "    # anyway when you run the code, you are expected to reset it \n",
        "    # as soon as you use the class\n",
        "    self.weights = np.zeros(self.data.shape[1]) \n",
        "    self.weights[self.portfolio_choice] = 1 / np.sum(self.portfolio_choice)\n",
        "\n",
        "\n",
        "  # calculates the environment state for some time interval \n",
        "  # i.e. it determines the covariance matrix of asset prices in the interval\n",
        "  # and attachs to it the weights vector\n",
        "  def calc_state(self, t, lookback):\n",
        "\n",
        "    assert lookback <= t\n",
        "    market_vals = self.data.iloc[t-lookback:t]\n",
        "    market_vals = market_vals.pct_change().dropna()\n",
        "\n",
        "    state = market_vals.cov().values\n",
        "    state = np.concatenate((state,self.weights.reshape(1,-1)),axis=0)\n",
        "\n",
        "    return state\n",
        "\n",
        "\n",
        "  # calculate the reward from your portfolio in some period of time \n",
        "  def calc_reward(self, a, action_t, reward_t, returns_ben = None):\n",
        "    \n",
        "    data_period = self.data[action_t:reward_t]\n",
        "    returns = data_period.pct_change().dropna()\n",
        "\n",
        "    w = self.weights\n",
        "    arg_choice = np.where(self.portfolio_choice)[0]\n",
        "\n",
        "    port_ret = returns.mean()[self.portfolio_choice]\n",
        "    port_vol = np.sqrt(np.dot(w.T, np.dot(returns.cov(), w)))   \n",
        "\n",
        "    ret_ben = returns_ben.mean()\n",
        "    vol_ben = returns_ben.var()\n",
        "\n",
        "    if   self.reward_def=='return' : r = port_ret\n",
        "    if   self.reward_def=='sharpe' : r = port_ret/port_vol\n",
        "    elif self.reward_def=='return_ben' : r = port_ret-ret_ben\n",
        "    #elif self.reward_def=='sharpe_ben' : r = port_ret/port_vol-ret_ben/vol_ben\n",
        "    elif self.reward_def=='sharpe_ben' : r = (port_ret - ret_ben)/port_vol\n",
        "    else: return 0\n",
        "    \n",
        "    # now, for every asset\n",
        "    # reward is the quantity you defined if you went for buying the asset\n",
        "    # reward is the opposite of this quantity if you were selling it\n",
        "    # if you were holding the asset, reward is negative \n",
        "    # and proportional to how much it would have been better to buy or sell \n",
        "    for i in range(np.sum(self.portfolio_choice)):\n",
        "      if   a[i] == 1: r[i] = +r[i] \n",
        "      elif a[i] == 2: r[i] = -r[i] \n",
        "      else:           r[i] = -np.square(r[i]) \n",
        "    return r\n",
        "\n",
        "\n",
        "  # calculate the return from your portfolio in some period of time\n",
        "  def calc_return(self, action_t, reward_t):\n",
        "\n",
        "    # here you build the matrix of percentage returns \n",
        "    data_period = self.data[action_t:reward_t]\n",
        "    returns = data_period.pct_change().dropna()    \n",
        "    w = self.weights\n",
        "\n",
        "    # returns an array of weighted percentage returns, one for each day\n",
        "    return np.dot(returns, w)\n",
        "\n",
        "\n",
        "  # calculate the new portfolio composition if we were to implement action a\n",
        "  # this is quite arbitrary a function\n",
        "  # the idea is that an agent sells the reb_ratio of each of the assets to sell\n",
        "  # then uses the same capital (which is reb_total) to rebalance\n",
        "  # i.e. to buy assets to buy, allocating the same capital for each of these\n",
        "  def update_weights(self, a, reb_ratio=.7):\n",
        "    \n",
        "    w = np.copy(self.weights)\n",
        "    arg_choice = np.where(self.portfolio_choice)[0]\n",
        "\n",
        "    # find what the agent wants to sell, and what is to buy\n",
        "    to_sell = np.where(a==2)[0]\n",
        "    to_buy = np.where(a==1)[0]\n",
        "\n",
        "    # if both buying and selling vectors are not empty\n",
        "    # proceed with rebalancing\n",
        "    reb_total = 0\n",
        "    if len(to_buy) != 0 and len(to_sell) != 0:\n",
        "      for i in to_sell :\n",
        "        w[arg_choice[i]] *= reb_ratio\n",
        "        reb_total += self.weights[arg_choice[i]] * (1.-reb_ratio) \n",
        "      for i in to_buy :\n",
        "        w[arg_choice[i]] += reb_total / len(to_buy) \n",
        "\n",
        "    return w"
      ],
      "execution_count": null,
      "outputs": []
    },
    {
      "cell_type": "markdown",
      "metadata": {
        "id": "2FL3fbgVFSsG"
      },
      "source": [
        "<a id='3.2'></a>\n",
        "## 3.2. Agent class"
      ]
    },
    {
      "cell_type": "code",
      "metadata": {
        "id": "7pbUt5G_FSsH"
      },
      "source": [
        "class myagent:\n",
        "  \n",
        "  def __init__(\n",
        "           self, \n",
        "           portfolio_size,\n",
        "           asset_number,\n",
        "           is_eval = False\n",
        "         ):\n",
        "    \n",
        "    self.portfolio_size = portfolio_size\n",
        "    self.asset_number = asset_number\n",
        "    self.is_eval = is_eval\n",
        "    self.action_size = 3 # hold, buy, sell \n",
        "\n",
        "    # here you initialise the model as you call the class\n",
        "    self.model = self.build_model()\n",
        "    self.memory4replay = []\n",
        "\n",
        "    self.alpha = 0.5\n",
        "    self.gamma = 0.95\n",
        "    self.epsilon = 1\n",
        "    self.epsilon_min = 0.01\n",
        "    self.epsilon_decay = 0.99\n",
        "    \n",
        "\n",
        "\n",
        "  # model determines convenience values for hold, buy, sell for each asset\n",
        "  # once some state has been provided \n",
        "  # this function builds the model every time you initialise this class\n",
        "  def build_model(self):\n",
        "    \n",
        "    inputs = ker_lay.Input(shape=(self.asset_number+1, self.asset_number))    \n",
        "    x = ker_lay.Flatten()(inputs)\n",
        "    x = ker_lay.Dense(100, activation='elu')(x)\n",
        "    x = ker_lay.Dropout(0.5)(x)\n",
        "    x = ker_lay.Dense(50, activation='elu')(x)\n",
        "    x = ker_lay.Dropout(0.5)(x)    \n",
        "    predictions = []\n",
        "    for i in range(self.portfolio_size):\n",
        "      asset_dense = ker_lay.Dense(self.action_size, activation='linear')(x)   \n",
        "      predictions.append(asset_dense)\n",
        "    \n",
        "    model = ker_mod.Model(inputs=inputs, outputs=predictions)\n",
        "    model.compile(optimizer='adam', loss='mse')\n",
        "    return model\n",
        "  \n",
        "  # save the model somewhere \n",
        "  def save_model(self, address):\n",
        "    self.model.save(address)\n",
        "  \n",
        "  # load some model which has been saved\n",
        "  def load_model(self, address): \n",
        "    self.model = ker_mod.load_model(address)\n",
        "\n",
        "\n",
        "  # returns the action based on the state\n",
        "  # action can be 0 = hold, 1 = buy or 2 = sell\n",
        "  def calc_action(self, s):    \n",
        "    # random case of the epsilon-greedy exploration\n",
        "    if not self.is_eval and random.random() <= self.epsilon:\n",
        "      a = np.random.randint(self.action_size,size=self.portfolio_size)    \n",
        "      return a\n",
        "    # non-random case of the epsilon-greedy exploration\n",
        "    else: \n",
        "      Q_pred = np.squeeze(self.model.predict(np.expand_dims(s,0)))\n",
        "      a = np.argmax(Q_pred, axis=-1)\n",
        "      return a\n",
        "\n",
        "\n",
        "  # update the neural newtork so that it generates a better Q\n",
        "  def update_Q(self):\n",
        "\n",
        "    for (s, ss, a, r) in self.memory4replay:\n",
        "\n",
        "      # build the Q_targ from the current prediction, r and the Bellman eq \n",
        "      Q_bell = np.zeros((self.portfolio_size, self.action_size)) \n",
        "      Q_pred = np.squeeze(self.model.predict(np.expand_dims(ss,0)))   \n",
        "\n",
        "      for i in range(self.portfolio_size):\n",
        "        if   a[i] == 1: Q_bell[i][1] = r[i] + self.gamma * np.max(Q_pred[i][1])\n",
        "        elif a[i] == 2: Q_bell[i][2] = r[i] + self.gamma * np.max(Q_pred[i][2])\n",
        "        else:           Q_bell[i][0] = r[i] + self.gamma * np.max(Q_pred[i][0]) \n",
        "\n",
        "      Q_targ = Q_bell * self.alpha + Q_pred * (1-self.alpha)\n",
        "      Q_targ = [qq.reshape(1, -1) for qq in Q_targ]      \n",
        "\n",
        "      # update the neural newtork \n",
        "      self.model.fit(np.expand_dims(s, 0), Q_targ, epochs=1, verbose=0)      \n",
        "    \n",
        "    # also, proceed to have epsilon to decay\n",
        "    if self.epsilon > self.epsilon_min:\n",
        "      self.epsilon *= self.epsilon_decay"
      ],
      "execution_count": null,
      "outputs": []
    },
    {
      "cell_type": "markdown",
      "metadata": {
        "id": "8ERvOXdgFSsJ"
      },
      "source": [
        "<a id='4'></a>\n",
        "# 4. Training the data"
      ]
    },
    {
      "cell_type": "markdown",
      "metadata": {
        "id": "WBgdWFjKfDZ0"
      },
      "source": [
        "<a id='4.1'></a>\n",
        "## 4.1. Set parameters, initialise classes"
      ]
    },
    {
      "cell_type": "code",
      "metadata": {
        "id": "yJsfZY5sFSsK"
      },
      "source": [
        "data_length, asset_number = dataset.shape\n",
        "portfolio_choice = np.array([dataset.columns[i] in set_list_02 for i in range(asset_number)])\n",
        "portfolio_size = np.sum(portfolio_choice)\n",
        "\n",
        "window_size = 100        # determines the state\n",
        "rebalance_period = 56    # determines the reward\n",
        "batch_size = 24          # after how many iterations are we resetting Q?\n",
        "episode_count = 1200     # how many total iterations?"
      ],
      "execution_count": null,
      "outputs": []
    },
    {
      "cell_type": "code",
      "metadata": {
        "id": "AY8s86kGpJND"
      },
      "source": [
        "env =   myenvir(dataset, portfolio_choice, reward_def='return_ben')\n",
        "agent = myagent(portfolio_size, asset_number)"
      ],
      "execution_count": null,
      "outputs": []
    },
    {
      "cell_type": "code",
      "metadata": {
        "id": "DBkvF3q5cSqD"
      },
      "source": [
        "# if you want to load some of the saved models, you can go with that \n",
        "# agent.load_model('/content/drive/MyDrive/model-sharpe_ben-1440random.ker')"
      ],
      "execution_count": null,
      "outputs": []
    },
    {
      "cell_type": "markdown",
      "metadata": {
        "id": "Nq0OamV8fKne"
      },
      "source": [
        "<a id='4.2'></a>\n",
        "## 4.2. Perform the training!\n"
      ]
    },
    {
      "cell_type": "code",
      "metadata": {
        "id": "PzhZdOMeFSsL",
        "colab": {
          "base_uri": "https://localhost:8080/",
          "height": 1000
        },
        "outputId": "af561791-fbd3-44ab-a178-da1a8ae74289"
      },
      "source": [
        "agent.is_eval = False\n",
        "\n",
        "# loop on the training episodes \n",
        "for e in range(episode_count): \n",
        "  \n",
        "  # choose a random moment to work with\n",
        "  t_start = np.random.randint(window_size, data_length-rebalance_period-1)\n",
        "  t_end = t_start+rebalance_period\n",
        "\n",
        "  # set weights randomly at the beginning\n",
        "  weights = np.random.normal(0, 1, size = (np.sum(portfolio_choice), ))\n",
        "  weights += np.abs(np.min(weights))\n",
        "  weights /= np.sum(weights)\n",
        "  env.weights = np.zeros(asset_number) \n",
        "  env.weights[portfolio_choice] = weights\n",
        "\n",
        "  # or maybe all equal weights \n",
        "  #weights = np.ones(portfolio_size) / portfolio_size\n",
        "  #env.weights = np.zeros(asset_number) \n",
        "  #env.weights[portfolio_choice] = weights\n",
        "\n",
        "  # now calculate the return in ben's game i.e. by taking no action\n",
        "  returns_ben = env.calc_return(t_start, t_end)\n",
        "\n",
        "  # and which one is the return if we let rob play instead\n",
        "  s = env.calc_state(t_start, window_size)\n",
        "  a = agent.calc_action(s)\n",
        "\n",
        "  env.weights = env.update_weights(a)\n",
        "  returns_rob = env.calc_return(t_start, t_end)\n",
        "\n",
        "  # show-time! let us see the performances of rob and ben\n",
        "  print('episode '+str(e+1)+'/'+str(episode_count)+' - epsilon', agent.epsilon) \n",
        "  #print('weights ', {env.data.columns[portfolio_choice][k]:env.weights[portfolio_choice][k] for k in range(portfolio_size)})\n",
        "\n",
        "  plt.figure(figsize = (12, 2))\n",
        "  plt.plot(np.array(returns_rob).cumsum(), color = 'black', ls = '-')\n",
        "  plt.plot(np.array(returns_ben).cumsum(), color = 'grey', ls = '--')\n",
        "  plt.show()\n",
        "  \n",
        "  plt.figure(figsize = (12, 2))\n",
        "  plt.bar(np.arange(portfolio_size), a, color = 'grey', alpha = 0.25)\n",
        "  plt.xticks(np.arange(portfolio_size), env.data.columns[portfolio_choice], rotation='vertical')\n",
        "  plt.show()\n",
        "\n",
        "  # finally, let's calculate the reward for rob\n",
        "  r = env.calc_reward(a, t_start, t_end, returns_ben) \n",
        "  ss = env.calc_state(t_end, window_size)\n",
        "\n",
        "  # and let rob write it down, possibly learn from it!\n",
        "  agent.memory4replay.append((s, ss, a, r))   \n",
        "  if len(agent.memory4replay) >= batch_size:\n",
        "    agent.update_Q()\n",
        "    agent.memory4replay = []"
      ],
      "execution_count": null,
      "outputs": []
    },
    {
      "cell_type": "markdown",
      "metadata": {
        "id": "bGGs0nm4FSsN"
      },
      "source": [
        "<a id='5'></a>\n",
        "# 5. Robo-manager at work"
      ]
    },
    {
      "cell_type": "markdown",
      "metadata": {
        "id": "X-leHoUgFSsN"
      },
      "source": [
        "<a id='5.1'></a>\n",
        "## 5.1. A simple test "
      ]
    },
    {
      "cell_type": "code",
      "metadata": {
        "id": "qD4gwMonFSsO",
        "colab": {
          "base_uri": "https://localhost:8080/",
          "height": 461
        },
        "outputId": "fc76158b-8e10-4b3d-c857-71a55ffca46d"
      },
      "source": [
        "agent.is_eval = True\n",
        "\n",
        "# take a random moment in time \n",
        "t_start = np.random.randint(window_size, data_length-rebalance_period-1)\n",
        "t_end = t_start+rebalance_period\n",
        "\n",
        "# set weights randomly at the beginning\n",
        "weights = np.random.normal(0, 1, size = (np.sum(portfolio_choice), ))\n",
        "weights += np.abs(np.min(weights))\n",
        "weights /= np.sum(weights)\n",
        "env.weights = np.zeros(asset_number) \n",
        "env.weights[portfolio_choice] = weights\n",
        "\n",
        "# now calculate the return in ben's game i.e. by taking no action\n",
        "returns_ben = env.calc_return(t_start, t_end)\n",
        "\n",
        "# and which one is the return if we let rob play instead\n",
        "s = env.calc_state(t_start, window_size)\n",
        "a = agent.calc_action(s)\n",
        "\n",
        "env.weights = env.update_weights(a)\n",
        "returns_rob = env.calc_return(t_start, t_end)\n",
        "\n",
        "# show-time! let us see the performances of rob and ben\n",
        "print('test run - epsilon', agent.epsilon)  \n",
        "\n",
        "plt.figure(figsize = (12, 2))\n",
        "plt.plot(np.array(returns_rob).cumsum(), color = 'black', ls = '-')\n",
        "plt.plot(np.array(returns_ben).cumsum(), color = 'grey', ls = '--')\n",
        "plt.show()\n",
        "  \n",
        "plt.figure(figsize = (12, 2))\n",
        "plt.bar(np.arange(portfolio_size), a, color = 'grey', alpha = 0.25)\n",
        "plt.xticks(np.arange(portfolio_size), env.data.columns[portfolio_choice], rotation='vertical')\n",
        "plt.show()\n",
        "\n",
        "r = env.calc_reward(a, t_start, t_end, returns_ben)\n",
        "print('reward detail' )\n",
        "print(r)"
      ],
      "execution_count": null,
      "outputs": [
        {
          "output_type": "stream",
          "name": "stdout",
          "text": [
            "test run - epsilon 0.6050060671375365\n"
          ]
        },
        {
          "output_type": "display_data",
          "data": {
            "image/png": "[encoded data removed]",
            "text/plain": [
              "<Figure size 864x144 with 1 Axes>"
            ]
          },
          "metadata": {
            "needs_background": "light"
          }
        },
        {
          "output_type": "display_data",
          "data": {
            "image/png": "[encoded data removed]",
            "text/plain": [
              "<Figure size 864x144 with 1 Axes>"
            ]
          },
          "metadata": {
            "needs_background": "light"
          }
        },
        {
          "output_type": "stream",
          "name": "stdout",
          "text": [
            "reward detail\n",
            "ENI.MI   -4.564953e-06\n",
            "ISP.MI   -2.483167e-07\n",
            "SRS.MI   -2.284272e-04\n",
            "STM.MI   -1.129165e-06\n",
            "UNI.MI    1.647646e-03\n",
            "dtype: float64\n"
          ]
        }
      ]
    },
    {
      "cell_type": "code",
      "metadata": {
        "id": "5sA1IHZgFSsQ"
      },
      "source": [
        "from statsmodels import api as stm_api\n",
        "from statsmodels import regression as stm_reg\n",
        "\n",
        "def print_stats(result, benchmark):\n",
        "\n",
        "    port_ret = np.mean(np.array(result))\n",
        "    port_vol = np.std(np.array(result))\n",
        "    port_sha = port_ret / port_vol * np.sqrt(rebalance_period)\n",
        "\n",
        "    y = result\n",
        "    x = stm_api.add_constant(benchmark)\n",
        "    model = stm_reg.linear_model.OLS(y, x).fit()    \n",
        "    alpha = model.params[0]\n",
        "    beta = model.params[1]\n",
        "    \n",
        "    return np.round(np.array([port_ret, port_vol, port_sha, alpha, beta]), 4).tolist()"
      ],
      "execution_count": null,
      "outputs": []
    },
    {
      "cell_type": "code",
      "metadata": {
        "colab": {
          "base_uri": "https://localhost:8080/"
        },
        "id": "TP6SMm6EPW4J",
        "outputId": "08a65f0c-38d3-458c-bd53-6fe57627d55b"
      },
      "source": [
        "print('EQUAL', print_stats(returns_ben, returns_ben))\n",
        "print('RL AGENT', print_stats(returns_rob, returns_ben))"
      ],
      "execution_count": null,
      "outputs": [
        {
          "output_type": "stream",
          "name": "stdout",
          "text": [
            "EQUAL [0.0008, 0.0171, 0.364, -0.0, 1.0]\n",
            "RL AGENT [0.0008, 0.0171, 0.364, -0.0, 1.0]\n"
          ]
        }
      ]
    },
    {
      "cell_type": "markdown",
      "metadata": {
        "id": "n_5oOAIClZnv"
      },
      "source": [
        "<a id='5.2'></a>\n",
        "## 5.2. A simple prediction "
      ]
    },
    {
      "cell_type": "code",
      "metadata": {
        "colab": {
          "base_uri": "https://localhost:8080/",
          "height": 217
        },
        "id": "8z28xms0laje",
        "outputId": "21f1b759-9d98-4888-f86f-e6f71e3b474f"
      },
      "source": [
        "agent.is_eval = True\n",
        "\n",
        "# another possibility: take the last time interval\n",
        "t_start = data_length\n",
        "\n",
        "# and equal weights \n",
        "weights = np.ones(portfolio_size) / portfolio_size\n",
        "env.weights = np.zeros(asset_number) \n",
        "env.weights[portfolio_choice] = weights\n",
        "\n",
        "# and which one is the return if we let rob play instead\n",
        "s = env.calc_state(t_start, window_size)\n",
        "a = agent.calc_action(s)\n",
        "\n",
        "# here you try to assess the optimal portfolio allocation for this moment\n",
        "to_sell = np.where(a==2)[0]\n",
        "to_buy = np.where(a==1)[0]\n",
        "\n",
        "if len(to_buy) != 0 and len(to_sell) != 0:\n",
        "  kk = 0\n",
        "  aa = +a \n",
        "  while np.all(aa == a) and kk < 30: \n",
        "    env.weights = env.update_weights(aa)\n",
        "    ss = env.calc_state(t_start, window_size)\n",
        "    aa = agent.calc_action(ss)\n",
        "    kk += 1\n",
        "\n",
        "\n",
        "# show-time! let us see the performances of rob and ben\n",
        "print('prediction - epsilon', agent.epsilon)  \n",
        "print('optimal weights ', {env.data.columns[portfolio_choice][k]:env.weights[portfolio_choice][k] for k in range(portfolio_size)})\n",
        "\n",
        "plt.figure(figsize = (12, 2))\n",
        "plt.bar(np.arange(portfolio_size), a, color = 'grey', alpha = 0.25)\n",
        "plt.xticks(np.arange(portfolio_size), env.data.columns[portfolio_choice], rotation='vertical')\n",
        "plt.show()"
      ],
      "execution_count": null,
      "outputs": [
        {
          "output_type": "stream",
          "name": "stdout",
          "text": [
            "prediction - epsilon 0.6050060671375365\n",
            "optimal weights  {'ENI.MI': 0.2, 'ISP.MI': 0.2, 'SRS.MI': 0.2, 'STM.MI': 0.2, 'UNI.MI': 0.2}\n"
          ]
        },
        {
          "output_type": "display_data",
          "data": {
            "image/png": "[encoded data removed]",
            "text/plain": [
              "<Figure size 864x144 with 1 Axes>"
            ]
          },
          "metadata": {
            "needs_background": "light"
          }
        }
      ]
    },
    {
      "cell_type": "markdown",
      "metadata": {
        "id": "oQm2lGoDd9Ln"
      },
      "source": [
        " sharpe \\\\\n",
        "420 random : buy ISP, STM, UNI - sell ENI, SRS \\\\\n",
        "360 random : buy ENI, UNI - sell ISP, SRS \\\\\n",
        "720 random : buy STM, UNI - sell SRS  --- looks like the average of all results \\\\\n",
        "360 uniform : buy ISP, STM - sell SRS \\\\\n",
        "360 random : buy SRS, STM, UNI - sell ENI \\\\\n",
        "360 random & 360 uniform: buy ISP, STM, UNI - sell SRS \\\\\n",
        " \\\\\n",
        "\n",
        " sharpe_ben & account for variance \\\\\n",
        "720 random : buy STM, UNI - sell ENI, ISP, SRS \\\\\n",
        "720 random : buy ISP, STM, UNI - sell ENI, SRS \\\\\n",
        "720 random : buy STM, UNI - sell ENI, ISP, SRS \\\\\n",
        "720 random : buy ISP, STM, UNI - sell ENI, SRS \\\\\n",
        "1440 random : buy STM, UNI - sell ENI, SRS  [model-sharpe_ben-1440random.ker] \\\\\n",
        "1200 random : buy ISP, STM, UNI - sell ENI, SRS  [model-sharpe_ben-1200random.ker] \\\\\n",
        " \\\\\n",
        "\n",
        "return_ben & account for variance \\\\\n",
        "1200 random : sell SRS, UNI ... "
      ]
    },
    {
      "cell_type": "code",
      "metadata": {
        "id": "Eg59gr4BeP8Z",
        "colab": {
          "base_uri": "https://localhost:8080/"
        },
        "outputId": "6c70b043-64dc-4197-d7a4-0009416f2c69"
      },
      "source": [
        "# if you want to save the saved model, you can go with that \n",
        "# agent.save_model('/content/drive/MyDrive/model-return_ben-1200random.ker')"
      ],
      "execution_count": null,
      "outputs": [
        {
          "output_type": "stream",
          "name": "stdout",
          "text": [
            "INFO:tensorflow:Assets written to: /content/drive/MyDrive/model-return_ben-1200random.ker/assets\n"
          ]
        }
      ]
    }
  ]
}